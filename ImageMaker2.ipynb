{
 "cells": [
  {
   "cell_type": "code",
   "execution_count": 1,
   "id": "801d43b5",
   "metadata": {
    "ExecuteTime": {
     "end_time": "2023-10-31T18:13:58.052595Z",
     "start_time": "2023-10-31T18:13:58.036962Z"
    }
   },
   "outputs": [],
   "source": [
    "#Import Local files\n",
    "import sys\n",
    "sys.path.append(\"..\") \n",
    "from FractalCreation import FractalCreation\n",
    "import csv\n",
    "import numpy"
   ]
  },
  {
   "cell_type": "code",
   "execution_count": 2,
   "id": "edc2a5da",
   "metadata": {
    "ExecuteTime": {
     "end_time": "2023-10-31T18:13:58.074221Z",
     "start_time": "2023-10-31T18:13:58.054110Z"
    }
   },
   "outputs": [],
   "source": [
    "#Specify the settings used here \n",
    "\n",
    "rmin = -3\n",
    "rmax = 1\n",
    "imin = -2\n",
    "imax = 2\n",
    "\n",
    "qualityPerUnit = 1000\n",
    "\n",
    "FilePath = \"Data/test_data1_full.csv\"\n",
    "\n",
    "ImageName = \"ITF1full\"\n",
    "\n",
    "LoadColorValue = True "
   ]
  },
  {
   "cell_type": "code",
   "execution_count": null,
   "id": "e42bec90",
   "metadata": {},
   "outputs": [],
   "source": []
  },
  {
   "cell_type": "code",
   "execution_count": 4,
   "id": "1902176d",
   "metadata": {
    "ExecuteTime": {
     "end_time": "2023-10-31T18:15:07.761381Z",
     "start_time": "2023-10-31T18:14:14.270602Z"
    }
   },
   "outputs": [],
   "source": [
    "matrix2 = np.genfromtxt(FilePath, delimiter=\",\")"
   ]
  },
  {
   "cell_type": "code",
   "execution_count": null,
   "id": "e3abf633",
   "metadata": {
    "ExecuteTime": {
     "end_time": "2023-10-31T16:19:03.866217Z",
     "start_time": "2023-10-31T16:19:03.425902Z"
    }
   },
   "outputs": [],
   "source": []
  },
  {
   "cell_type": "code",
   "execution_count": null,
   "id": "a260b5bf",
   "metadata": {
    "ExecuteTime": {
     "end_time": "2023-10-31T18:15:07.807081Z",
     "start_time": "2023-10-31T18:15:07.807081Z"
    }
   },
   "outputs": [],
   "source": [
    "OBJ = FractalCreation(rmin, rmax, imin, imax, qualityPerUnit)"
   ]
  },
  {
   "cell_type": "code",
   "execution_count": null,
   "id": "b2bfbf28",
   "metadata": {
    "ExecuteTime": {
     "end_time": "2023-10-31T18:15:07.812595Z",
     "start_time": "2023-10-31T18:15:07.812595Z"
    }
   },
   "outputs": [],
   "source": [
    "#Data Cleaning \n",
    "matrix2 = np.delete(matrix2, -1, 1) \n",
    "matrix2[matrix2 == 0] = np.nan"
   ]
  },
  {
   "cell_type": "code",
   "execution_count": null,
   "id": "1a7bcca8",
   "metadata": {
    "ExecuteTime": {
     "end_time": "2023-10-31T18:15:07.815122Z",
     "start_time": "2023-10-31T18:15:07.815122Z"
    }
   },
   "outputs": [],
   "source": [
    "\n",
    "dpi_val = max(matrix2.shape[0], matrix2.shape[1])/20 \n",
    "matrix2.shape, dpi_val"
   ]
  },
  {
   "cell_type": "code",
   "execution_count": null,
   "id": "c8ba9203",
   "metadata": {
    "ExecuteTime": {
     "end_time": "2023-10-29T21:26:13.733900Z",
     "start_time": "2023-10-29T21:26:13.720769Z"
    }
   },
   "outputs": [],
   "source": []
  },
  {
   "cell_type": "code",
   "execution_count": null,
   "id": "8e2ad39c",
   "metadata": {
    "ExecuteTime": {
     "end_time": "2023-10-31T18:15:07.819125Z",
     "start_time": "2023-10-31T18:15:07.819125Z"
    },
    "scrolled": false
   },
   "outputs": [],
   "source": [
    "#Plot and save the image \n",
    "OBJ.PlotSave(Matrix=matrix2, name=f'{ImageName}_Quality_{qualityPerUnit}', DPI=dpi_val, loadColor=LoadColorValue)"
   ]
  },
  {
   "cell_type": "code",
   "execution_count": null,
   "id": "cbe94edc",
   "metadata": {},
   "outputs": [],
   "source": []
  },
  {
   "cell_type": "code",
   "execution_count": null,
   "id": "726d934e",
   "metadata": {},
   "outputs": [],
   "source": []
  },
  {
   "cell_type": "code",
   "execution_count": null,
   "id": "93d7925b",
   "metadata": {},
   "outputs": [],
   "source": []
  }
 ],
 "metadata": {
  "kernelspec": {
   "display_name": "Python 3 (ipykernel)",
   "language": "python",
   "name": "python3"
  },
  "language_info": {
   "codemirror_mode": {
    "name": "ipython",
    "version": 3
   },
   "file_extension": ".py",
   "mimetype": "text/x-python",
   "name": "python",
   "nbconvert_exporter": "python",
   "pygments_lexer": "ipython3",
   "version": "3.9.16"
  },
  "varInspector": {
   "cols": {
    "lenName": 16,
    "lenType": 16,
    "lenVar": 40
   },
   "kernels_config": {
    "python": {
     "delete_cmd_postfix": "",
     "delete_cmd_prefix": "del ",
     "library": "var_list.py",
     "varRefreshCmd": "print(var_dic_list())"
    },
    "r": {
     "delete_cmd_postfix": ") ",
     "delete_cmd_prefix": "rm(",
     "library": "var_list.r",
     "varRefreshCmd": "cat(var_dic_list()) "
    }
   },
   "types_to_exclude": [
    "module",
    "function",
    "builtin_function_or_method",
    "instance",
    "_Feature"
   ],
   "window_display": false
  }
 },
 "nbformat": 4,
 "nbformat_minor": 5
}
